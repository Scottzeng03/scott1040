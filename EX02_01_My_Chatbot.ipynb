{
  "nbformat": 4,
  "nbformat_minor": 0,
  "metadata": {
    "colab": {
      "provenance": [],
      "authorship_tag": "ABX9TyON2Ta4jeprQ0BH4zdmPQmV",
      "include_colab_link": true
    },
    "kernelspec": {
      "name": "python3",
      "display_name": "Python 3"
    },
    "language_info": {
      "name": "python"
    }
  },
  "cells": [
    {
      "cell_type": "markdown",
      "metadata": {
        "id": "view-in-github",
        "colab_type": "text"
      },
      "source": [
        "<a href=\"https://colab.research.google.com/github/Scottzeng03/scott1040/blob/main/EX02_01_My_Chatbot.ipynb\" target=\"_parent\"><img src=\"https://colab.research.google.com/assets/colab-badge.svg\" alt=\"Open In Colab\"/></a>"
      ]
    },
    {
      "cell_type": "code",
      "execution_count": 1,
      "metadata": {
        "id": "7qbh9MSQR3xS"
      },
      "outputs": [],
      "source": [
        "from google.colab import userdata\n",
        "import google.generativeai as genai\n",
        "genai.configure(api_key=userdata.get('GOOGLE_API_KEY'))"
      ]
    },
    {
      "cell_type": "code",
      "source": [
        "generation_config = {\n",
        "    \"temperature\":1,\n",
        "    \"max_output_tokens\":1280\n",
        "}\n",
        "model = genai.GenerativeModel(\n",
        "    model_name=\"gemini-2.0-flash\",\n",
        "    generation_config=generation_config\n",
        ")"
      ],
      "metadata": {
        "id": "JFNlzxOoSbeN"
      },
      "execution_count": 2,
      "outputs": []
    },
    {
      "cell_type": "code",
      "source": [
        "from IPython.display import Markdown, display\n",
        "\n",
        "chat = model.start_chat(history=[])\n",
        "while True:\n",
        "  message = input('You:')\n",
        "  if message == 'bye!':\n",
        "    break\n",
        "  response = chat.send_message(message)\n",
        "  print('Bot:')\n",
        "  display(Markdown(response.text))"
      ],
      "metadata": {
        "colab": {
          "base_uri": "https://localhost:8080/",
          "height": 1000
        },
        "id": "rL_r3ZIPTRCM",
        "outputId": "d5c115b9-0683-41c8-feb0-e013d3c05706"
      },
      "execution_count": 4,
      "outputs": [
        {
          "output_type": "stream",
          "name": "stdout",
          "text": [
            "You:hi\n",
            "Bot:\n"
          ]
        },
        {
          "output_type": "display_data",
          "data": {
            "text/plain": [
              "<IPython.core.display.Markdown object>"
            ],
            "text/markdown": "Hi there! How can I help you today?\n"
          },
          "metadata": {}
        },
        {
          "output_type": "stream",
          "name": "stdout",
          "text": [
            "You:how ai work\n",
            "Bot:\n"
          ]
        },
        {
          "output_type": "display_data",
          "data": {
            "text/plain": [
              "<IPython.core.display.Markdown object>"
            ],
            "text/markdown": "Okay, explaining how AI works is a big topic, but let's break it down into manageable pieces.  Essentially, AI works by enabling machines to perform tasks that typically require human intelligence.  This is achieved through a combination of algorithms, data, and computing power. Here's a simplified overview:\n\n**1. Core Concepts:**\n\n*   **Algorithms:**  These are sets of instructions that tell a computer how to solve a problem. In AI, algorithms are designed to learn patterns from data.\n*   **Data:**  AI needs data to learn. The more data, generally, the better the AI can perform. This data is used to train the algorithms.\n*   **Models:** A model is the output of training an AI algorithm on data. It's the representation of the learned patterns and relationships. You can think of it as a \"recipe\" that the AI follows to make predictions or decisions.\n*   **Machine Learning (ML):** This is a subset of AI that focuses on enabling computers to learn from data without being explicitly programmed.  Instead of writing code for every possible scenario, you feed the machine data, and it figures out the rules itself.\n*   **Deep Learning (DL):** A subset of machine learning that uses artificial neural networks with multiple layers (hence \"deep\") to analyze data.  Deep learning is particularly effective for complex tasks like image recognition, natural language processing, and speech recognition.\n\n**2. The Learning Process (Simplified):**\n\n*   **Data Collection & Preparation:**  Gathering relevant data and cleaning it (removing errors, inconsistencies, etc.) is a crucial first step.  The quality of the data directly affects the quality of the AI model.\n*   **Model Selection:** Choosing the right type of AI model (e.g., a neural network, a decision tree, a support vector machine) depends on the specific task and the nature of the data.\n*   **Training:**  The algorithm is fed the prepared data.  During training, the algorithm adjusts its internal parameters to minimize the difference between its predictions and the actual values in the data. This process is often iterative.\n*   **Validation/Testing:**  After training, the model is tested on a separate set of data (that it hasn't seen before) to evaluate its performance. This helps to ensure that the model generalizes well to new, unseen data.\n*   **Deployment:**  Once the model is trained and validated, it can be deployed into a real-world application to make predictions or decisions.\n*   **Monitoring & Retraining:** AI models are not static. They need to be continuously monitored and retrained with new data to maintain their accuracy and relevance.\n\n**3. Types of AI:**\n\nIt's also helpful to understand that there are different types of AI, categorized by their capabilities:\n\n*   **Narrow or Weak AI:** Designed to perform a specific task.  Examples:  spam filters, recommendation systems, self-driving cars (still considered narrow AI in many aspects), image recognition software.  Most of the AI we interact with today is narrow AI.\n*   **General or Strong AI:** Hypothetical AI with human-level intelligence, capable of understanding, learning, and applying knowledge across a wide range of domains. This doesn't exist yet.\n*   **Super AI:** Hypothetical AI that surpasses human intelligence in all aspects. This is also purely theoretical.\n\n**4.  Key Techniques & Algorithms (Very Brief Overview):**\n\n*   **Supervised Learning:** The algorithm learns from labeled data (data with known inputs and outputs).  Examples: Image classification (identifying objects in images), predicting house prices based on features like size and location.\n*   **Unsupervised Learning:** The algorithm learns from unlabeled data (data without predefined labels). Examples: Customer segmentation (grouping customers based on their purchasing behavior), anomaly detection (identifying unusual patterns in data).\n*   **Reinforcement Learning:** The algorithm learns by interacting with an environment and receiving rewards or penalties for its actions. Examples: Training AI to play games (like Go or chess), controlling robots.\n*   **Neural Networks:**  Inspired by the structure of the human brain, neural networks consist of interconnected nodes (neurons) that process information. Deep learning uses neural networks with many layers.\n*   **Natural Language Processing (NLP):**  Enables computers to understand, interpret, and generate human language. Examples:  Chatbots, machine translation, sentiment analysis.\n*   **Computer Vision:**  Enables computers to \"see\" and interpret images and videos. Examples: Facial recognition, object detection, image analysis.\n\n**In Summary:**\n\nAI is a broad field that uses algorithms and data to enable machines to perform tasks that typically require human intelligence. Machine learning and deep learning are key techniques that allow AI systems to learn from data without being explicitly programmed. The field encompasses various techniques and algorithms, each suited for different types of problems. The progress of AI relies heavily on the availability of large datasets and powerful computing resources.\n\n**Where to go from here:**\n\nThis is a high-level overview. If you want to learn more, it would be helpful to know what aspects of AI are most interesting to you. For example:\n\n*   Are you interested in the math and algorithms behind it?\n*   Are you interested in specific applications of AI?\n*   Are you interested in the ethical implications of AI?\n*   Are you interested in learning how to build AI models yourself?\n\nLet me know what you'd like to explore further, and I can provide more specific information and resources.\n"
          },
          "metadata": {}
        },
        {
          "name": "stdout",
          "output_type": "stream",
          "text": [
            "You:bye!\n"
          ]
        }
      ]
    }
  ]
}