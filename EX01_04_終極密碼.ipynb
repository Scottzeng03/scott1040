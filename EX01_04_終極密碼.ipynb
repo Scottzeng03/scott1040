{
  "nbformat": 4,
  "nbformat_minor": 0,
  "metadata": {
    "colab": {
      "provenance": [],
      "authorship_tag": "ABX9TyMr7yE3bd/0Xvr33LgLIV9P",
      "include_colab_link": true
    },
    "kernelspec": {
      "name": "python3",
      "display_name": "Python 3"
    },
    "language_info": {
      "name": "python"
    }
  },
  "cells": [
    {
      "cell_type": "markdown",
      "metadata": {
        "id": "view-in-github",
        "colab_type": "text"
      },
      "source": [
        "<a href=\"https://colab.research.google.com/github/Scottzeng03/scott1040/blob/main/EX01_04_%E7%B5%82%E6%A5%B5%E5%AF%86%E7%A2%BC.ipynb\" target=\"_parent\"><img src=\"https://colab.research.google.com/assets/colab-badge.svg\" alt=\"Open In Colab\"/></a>"
      ]
    },
    {
      "cell_type": "code",
      "execution_count": 12,
      "metadata": {
        "colab": {
          "base_uri": "https://localhost:8080/"
        },
        "id": "vM-KyXHUyFBd",
        "outputId": "9bad7bea-4a1f-4745-f627-d0e6acf5c13a"
      },
      "outputs": [
        {
          "output_type": "stream",
          "name": "stdout",
          "text": [
            "0 - 100\n",
            "guess:55\n",
            "比炸彈小\n",
            "55 - 100\n",
            "guess:11\n",
            "超過範圍\n",
            "55 - 100\n",
            "guess:58\n",
            "比炸彈小\n",
            "58 - 100\n",
            "guess:87\n",
            "比炸彈大\n",
            "58 - 87\n",
            "guess:68\n",
            "比炸彈小\n",
            "68 - 87\n",
            "guess:75\n",
            "猜中\n"
          ]
        }
      ],
      "source": [
        "import random\n",
        "bomb = random.randint(1,99)\n",
        "\n",
        "\n",
        "lf = 0\n",
        "rt = 100\n",
        "\n",
        "while True:\n",
        "  print(lf,'-',rt)\n",
        "  gu = int(input('guess:'))\n",
        "\n",
        "  if gu<=lf or gu>=rt:\n",
        "    print('超過範圍')\n",
        "  elif gu<bomb:\n",
        "    print('比炸彈小')\n",
        "    lf = gu\n",
        "  elif gu>bomb:\n",
        "    print('比炸彈大')\n",
        "    rt = gu\n",
        "  else:\n",
        "    print('猜中')\n",
        "    break\n",
        "\n",
        "\n",
        "\n",
        "\n",
        "\n",
        "\n"
      ]
    }
  ]
}