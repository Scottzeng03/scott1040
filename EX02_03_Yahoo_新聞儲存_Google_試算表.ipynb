{
  "nbformat": 4,
  "nbformat_minor": 0,
  "metadata": {
    "colab": {
      "provenance": [],
      "authorship_tag": "ABX9TyMRABLAx9x55bBkGgvqMQAp",
      "include_colab_link": true
    },
    "kernelspec": {
      "name": "python3",
      "display_name": "Python 3"
    },
    "language_info": {
      "name": "python"
    }
  },
  "cells": [
    {
      "cell_type": "markdown",
      "metadata": {
        "id": "view-in-github",
        "colab_type": "text"
      },
      "source": [
        "<a href=\"https://colab.research.google.com/github/Scottzeng03/scott1040/blob/main/EX02_03_Yahoo_%E6%96%B0%E8%81%9E%E5%84%B2%E5%AD%98_Google_%E8%A9%A6%E7%AE%97%E8%A1%A8.ipynb\" target=\"_parent\"><img src=\"https://colab.research.google.com/assets/colab-badge.svg\" alt=\"Open In Colab\"/></a>"
      ]
    },
    {
      "cell_type": "code",
      "execution_count": 1,
      "metadata": {
        "colab": {
          "base_uri": "https://localhost:8080/"
        },
        "id": "GxAJF4OQ_JPq",
        "outputId": "b8b734f0-6cc4-4b92-b784-43f3bc25c5f4"
      },
      "outputs": [
        {
          "output_type": "stream",
          "name": "stdout",
          "text": [
            "Collecting feedparser\n",
            "  Downloading feedparser-6.0.11-py3-none-any.whl.metadata (2.4 kB)\n",
            "Collecting sgmllib3k (from feedparser)\n",
            "  Downloading sgmllib3k-1.0.0.tar.gz (5.8 kB)\n",
            "  Preparing metadata (setup.py) ... \u001b[?25l\u001b[?25hdone\n",
            "Downloading feedparser-6.0.11-py3-none-any.whl (81 kB)\n",
            "\u001b[2K   \u001b[90m━━━━━━━━━━━━━━━━━━━━━━━━━━━━━━━━━━━━━━━━\u001b[0m \u001b[32m81.3/81.3 kB\u001b[0m \u001b[31m2.4 MB/s\u001b[0m eta \u001b[36m0:00:00\u001b[0m\n",
            "\u001b[?25hBuilding wheels for collected packages: sgmllib3k\n",
            "  Building wheel for sgmllib3k (setup.py) ... \u001b[?25l\u001b[?25hdone\n",
            "  Created wheel for sgmllib3k: filename=sgmllib3k-1.0.0-py3-none-any.whl size=6047 sha256=d28c52456dd223def92fe721ae747fdc9e02dd57ddc2437461a7945426e4c132\n",
            "  Stored in directory: /root/.cache/pip/wheels/3b/25/2a/105d6a15df6914f4d15047691c6c28f9052cc1173e40285d03\n",
            "Successfully built sgmllib3k\n",
            "Installing collected packages: sgmllib3k, feedparser\n",
            "Successfully installed feedparser-6.0.11 sgmllib3k-1.0.0\n"
          ]
        }
      ],
      "source": [
        "!pip install feedparser"
      ]
    },
    {
      "cell_type": "code",
      "source": [
        "import feedparser\n",
        "feed_url = \"https://tw.news.yahoo.com/rss\"\n",
        "feed_data = feedparser.parse(feed_url)"
      ],
      "metadata": {
        "id": "yvRlyKbM_WaB"
      },
      "execution_count": 5,
      "outputs": []
    },
    {
      "cell_type": "code",
      "source": [
        "# 引入相關模組\n",
        "from google.colab import auth\n",
        "from google.auth import default\n",
        "import gspread\n",
        "\n",
        "auth.authenticate_user() # 進行授權\n",
        "creds, _ = default() # 使用 default 方法獲取驗證信息\n",
        "gc = gspread.authorize(creds) # 使用 creds 變數授權 gspread 模組"
      ],
      "metadata": {
        "id": "izKTJFi9_6wA"
      },
      "execution_count": 6,
      "outputs": []
    },
    {
      "cell_type": "code",
      "source": [
        "# 開啟 Google 試算表\n",
        "url = 'https://docs.google.com/spreadsheets/d/1Ti7a8cIZIjCdHVxqlFnehOlyio7QlL8qn4-U-TlfpWk/edit?gid=0#gid=0'\n",
        "workbook = gc.open_by_url(url)\n",
        "# 獲取工作簿中索引為 0 的工作表，並將其儲存在 sheet 變數中\n",
        "sheet = workbook.get_worksheet(0)\n",
        "# 新增一列資料\n",
        "sheet.clear()\n",
        "sheet.append_row(['title','summary','link'])\n",
        "for entry in feed_data.entries:\n",
        "  sheet.append_row([entry.title,entry.summary,entry.link])"
      ],
      "metadata": {
        "id": "Xn4izaU4AFeV"
      },
      "execution_count": 7,
      "outputs": []
    }
  ]
}